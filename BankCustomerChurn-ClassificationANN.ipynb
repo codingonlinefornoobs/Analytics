{
 "cells": [
  {
   "cell_type": "code",
   "execution_count": 35,
   "id": "c2896404",
   "metadata": {
    "_cell_guid": "b1076dfc-b9ad-4769-8c92-a6c4dae69d19",
    "_uuid": "8f2839f25d086af736a60e9eeb907d3b93b6e0e5",
    "execution": {
     "iopub.execute_input": "2023-07-12T14:14:42.742610Z",
     "iopub.status.busy": "2023-07-12T14:14:42.742153Z",
     "iopub.status.idle": "2023-07-12T14:14:48.120975Z",
     "shell.execute_reply": "2023-07-12T14:14:48.119826Z"
    },
    "papermill": {
     "duration": 5.397205,
     "end_time": "2023-07-12T14:14:48.123993",
     "exception": false,
     "start_time": "2023-07-12T14:14:42.726788",
     "status": "completed"
    },
    "tags": []
   },
   "outputs": [],
   "source": [
    "# Libraries Used\n",
    "\n",
    "import numpy as np # linear algebra\n",
    "import pandas as pd # data processing, CSV file I/O (e.g. pd.read_csv)\n",
    "import seaborn as sns\n",
    "import matplotlib.pyplot as plt\n",
    "import torch\n",
    "import torch.nn as nn\n",
    "import torch.nn.functional as F\n",
    "import torch.optim as optim\n"
   ]
  },
  {
   "cell_type": "code",
   "execution_count": 36,
   "id": "d71428bd",
   "metadata": {
    "execution": {
     "iopub.execute_input": "2023-07-12T14:14:48.153740Z",
     "iopub.status.busy": "2023-07-12T14:14:48.152436Z",
     "iopub.status.idle": "2023-07-12T14:14:48.246125Z",
     "shell.execute_reply": "2023-07-12T14:14:48.244698Z"
    },
    "papermill": {
     "duration": 0.11118,
     "end_time": "2023-07-12T14:14:48.248859",
     "exception": false,
     "start_time": "2023-07-12T14:14:48.137679",
     "status": "completed"
    },
    "tags": []
   },
   "outputs": [
    {
     "data": {
      "text/html": [
       "<div>\n",
       "<style scoped>\n",
       "    .dataframe tbody tr th:only-of-type {\n",
       "        vertical-align: middle;\n",
       "    }\n",
       "\n",
       "    .dataframe tbody tr th {\n",
       "        vertical-align: top;\n",
       "    }\n",
       "\n",
       "    .dataframe thead th {\n",
       "        text-align: right;\n",
       "    }\n",
       "</style>\n",
       "<table border=\"1\" class=\"dataframe\">\n",
       "  <thead>\n",
       "    <tr style=\"text-align: right;\">\n",
       "      <th></th>\n",
       "      <th>customer_id</th>\n",
       "      <th>credit_score</th>\n",
       "      <th>country</th>\n",
       "      <th>gender</th>\n",
       "      <th>age</th>\n",
       "      <th>tenure</th>\n",
       "      <th>balance</th>\n",
       "      <th>products_number</th>\n",
       "      <th>credit_card</th>\n",
       "      <th>active_member</th>\n",
       "      <th>estimated_salary</th>\n",
       "      <th>churn</th>\n",
       "    </tr>\n",
       "  </thead>\n",
       "  <tbody>\n",
       "    <tr>\n",
       "      <th>0</th>\n",
       "      <td>15634602</td>\n",
       "      <td>619</td>\n",
       "      <td>France</td>\n",
       "      <td>Female</td>\n",
       "      <td>42</td>\n",
       "      <td>2</td>\n",
       "      <td>0.00</td>\n",
       "      <td>1</td>\n",
       "      <td>1</td>\n",
       "      <td>1</td>\n",
       "      <td>101348.88</td>\n",
       "      <td>1</td>\n",
       "    </tr>\n",
       "    <tr>\n",
       "      <th>1</th>\n",
       "      <td>15647311</td>\n",
       "      <td>608</td>\n",
       "      <td>Spain</td>\n",
       "      <td>Female</td>\n",
       "      <td>41</td>\n",
       "      <td>1</td>\n",
       "      <td>83807.86</td>\n",
       "      <td>1</td>\n",
       "      <td>0</td>\n",
       "      <td>1</td>\n",
       "      <td>112542.58</td>\n",
       "      <td>0</td>\n",
       "    </tr>\n",
       "    <tr>\n",
       "      <th>2</th>\n",
       "      <td>15619304</td>\n",
       "      <td>502</td>\n",
       "      <td>France</td>\n",
       "      <td>Female</td>\n",
       "      <td>42</td>\n",
       "      <td>8</td>\n",
       "      <td>159660.80</td>\n",
       "      <td>3</td>\n",
       "      <td>1</td>\n",
       "      <td>0</td>\n",
       "      <td>113931.57</td>\n",
       "      <td>1</td>\n",
       "    </tr>\n",
       "    <tr>\n",
       "      <th>3</th>\n",
       "      <td>15701354</td>\n",
       "      <td>699</td>\n",
       "      <td>France</td>\n",
       "      <td>Female</td>\n",
       "      <td>39</td>\n",
       "      <td>1</td>\n",
       "      <td>0.00</td>\n",
       "      <td>2</td>\n",
       "      <td>0</td>\n",
       "      <td>0</td>\n",
       "      <td>93826.63</td>\n",
       "      <td>0</td>\n",
       "    </tr>\n",
       "    <tr>\n",
       "      <th>4</th>\n",
       "      <td>15737888</td>\n",
       "      <td>850</td>\n",
       "      <td>Spain</td>\n",
       "      <td>Female</td>\n",
       "      <td>43</td>\n",
       "      <td>2</td>\n",
       "      <td>125510.82</td>\n",
       "      <td>1</td>\n",
       "      <td>1</td>\n",
       "      <td>1</td>\n",
       "      <td>79084.10</td>\n",
       "      <td>0</td>\n",
       "    </tr>\n",
       "    <tr>\n",
       "      <th>...</th>\n",
       "      <td>...</td>\n",
       "      <td>...</td>\n",
       "      <td>...</td>\n",
       "      <td>...</td>\n",
       "      <td>...</td>\n",
       "      <td>...</td>\n",
       "      <td>...</td>\n",
       "      <td>...</td>\n",
       "      <td>...</td>\n",
       "      <td>...</td>\n",
       "      <td>...</td>\n",
       "      <td>...</td>\n",
       "    </tr>\n",
       "    <tr>\n",
       "      <th>9995</th>\n",
       "      <td>15606229</td>\n",
       "      <td>771</td>\n",
       "      <td>France</td>\n",
       "      <td>Male</td>\n",
       "      <td>39</td>\n",
       "      <td>5</td>\n",
       "      <td>0.00</td>\n",
       "      <td>2</td>\n",
       "      <td>1</td>\n",
       "      <td>0</td>\n",
       "      <td>96270.64</td>\n",
       "      <td>0</td>\n",
       "    </tr>\n",
       "    <tr>\n",
       "      <th>9996</th>\n",
       "      <td>15569892</td>\n",
       "      <td>516</td>\n",
       "      <td>France</td>\n",
       "      <td>Male</td>\n",
       "      <td>35</td>\n",
       "      <td>10</td>\n",
       "      <td>57369.61</td>\n",
       "      <td>1</td>\n",
       "      <td>1</td>\n",
       "      <td>1</td>\n",
       "      <td>101699.77</td>\n",
       "      <td>0</td>\n",
       "    </tr>\n",
       "    <tr>\n",
       "      <th>9997</th>\n",
       "      <td>15584532</td>\n",
       "      <td>709</td>\n",
       "      <td>France</td>\n",
       "      <td>Female</td>\n",
       "      <td>36</td>\n",
       "      <td>7</td>\n",
       "      <td>0.00</td>\n",
       "      <td>1</td>\n",
       "      <td>0</td>\n",
       "      <td>1</td>\n",
       "      <td>42085.58</td>\n",
       "      <td>1</td>\n",
       "    </tr>\n",
       "    <tr>\n",
       "      <th>9998</th>\n",
       "      <td>15682355</td>\n",
       "      <td>772</td>\n",
       "      <td>Germany</td>\n",
       "      <td>Male</td>\n",
       "      <td>42</td>\n",
       "      <td>3</td>\n",
       "      <td>75075.31</td>\n",
       "      <td>2</td>\n",
       "      <td>1</td>\n",
       "      <td>0</td>\n",
       "      <td>92888.52</td>\n",
       "      <td>1</td>\n",
       "    </tr>\n",
       "    <tr>\n",
       "      <th>9999</th>\n",
       "      <td>15628319</td>\n",
       "      <td>792</td>\n",
       "      <td>France</td>\n",
       "      <td>Female</td>\n",
       "      <td>28</td>\n",
       "      <td>4</td>\n",
       "      <td>130142.79</td>\n",
       "      <td>1</td>\n",
       "      <td>1</td>\n",
       "      <td>0</td>\n",
       "      <td>38190.78</td>\n",
       "      <td>0</td>\n",
       "    </tr>\n",
       "  </tbody>\n",
       "</table>\n",
       "<p>10000 rows × 12 columns</p>\n",
       "</div>"
      ],
      "text/plain": [
       "      customer_id  credit_score  country  gender  age  tenure    balance  \\\n",
       "0        15634602           619   France  Female   42       2       0.00   \n",
       "1        15647311           608    Spain  Female   41       1   83807.86   \n",
       "2        15619304           502   France  Female   42       8  159660.80   \n",
       "3        15701354           699   France  Female   39       1       0.00   \n",
       "4        15737888           850    Spain  Female   43       2  125510.82   \n",
       "...           ...           ...      ...     ...  ...     ...        ...   \n",
       "9995     15606229           771   France    Male   39       5       0.00   \n",
       "9996     15569892           516   France    Male   35      10   57369.61   \n",
       "9997     15584532           709   France  Female   36       7       0.00   \n",
       "9998     15682355           772  Germany    Male   42       3   75075.31   \n",
       "9999     15628319           792   France  Female   28       4  130142.79   \n",
       "\n",
       "      products_number  credit_card  active_member  estimated_salary  churn  \n",
       "0                   1            1              1         101348.88      1  \n",
       "1                   1            0              1         112542.58      0  \n",
       "2                   3            1              0         113931.57      1  \n",
       "3                   2            0              0          93826.63      0  \n",
       "4                   1            1              1          79084.10      0  \n",
       "...               ...          ...            ...               ...    ...  \n",
       "9995                2            1              0          96270.64      0  \n",
       "9996                1            1              1         101699.77      0  \n",
       "9997                1            0              1          42085.58      1  \n",
       "9998                2            1              0          92888.52      1  \n",
       "9999                1            1              0          38190.78      0  \n",
       "\n",
       "[10000 rows x 12 columns]"
      ]
     },
     "execution_count": 36,
     "metadata": {},
     "output_type": "execute_result"
    }
   ],
   "source": [
    "df = pd.read_csv(\"Bank Customer Churn Prediction.csv\",sep=\",\" , header=0)\n",
    "df"
   ]
  },
  {
   "cell_type": "markdown",
   "id": "75ff3782",
   "metadata": {
    "papermill": {
     "duration": 0.015117,
     "end_time": "2023-07-12T14:14:48.277372",
     "exception": false,
     "start_time": "2023-07-12T14:14:48.262255",
     "status": "completed"
    },
    "tags": []
   },
   "source": [
    "## ***Understand the Data***"
   ]
  },
  {
   "cell_type": "code",
   "execution_count": 37,
   "id": "cfecb2d4",
   "metadata": {
    "execution": {
     "iopub.execute_input": "2023-07-12T14:14:48.306599Z",
     "iopub.status.busy": "2023-07-12T14:14:48.305638Z",
     "iopub.status.idle": "2023-07-12T14:14:48.352668Z",
     "shell.execute_reply": "2023-07-12T14:14:48.351504Z"
    },
    "papermill": {
     "duration": 0.064234,
     "end_time": "2023-07-12T14:14:48.355123",
     "exception": false,
     "start_time": "2023-07-12T14:14:48.290889",
     "status": "completed"
    },
    "tags": []
   },
   "outputs": [
    {
     "data": {
      "text/html": [
       "<div>\n",
       "<style scoped>\n",
       "    .dataframe tbody tr th:only-of-type {\n",
       "        vertical-align: middle;\n",
       "    }\n",
       "\n",
       "    .dataframe tbody tr th {\n",
       "        vertical-align: top;\n",
       "    }\n",
       "\n",
       "    .dataframe thead th {\n",
       "        text-align: right;\n",
       "    }\n",
       "</style>\n",
       "<table border=\"1\" class=\"dataframe\">\n",
       "  <thead>\n",
       "    <tr style=\"text-align: right;\">\n",
       "      <th></th>\n",
       "      <th>missing_values</th>\n",
       "      <th>duplicated</th>\n",
       "      <th>data_types</th>\n",
       "      <th>unique_values</th>\n",
       "    </tr>\n",
       "  </thead>\n",
       "  <tbody>\n",
       "    <tr>\n",
       "      <th>customer_id</th>\n",
       "      <td>0</td>\n",
       "      <td>0</td>\n",
       "      <td>int64</td>\n",
       "      <td>10000</td>\n",
       "    </tr>\n",
       "    <tr>\n",
       "      <th>credit_score</th>\n",
       "      <td>0</td>\n",
       "      <td>0</td>\n",
       "      <td>int64</td>\n",
       "      <td>460</td>\n",
       "    </tr>\n",
       "    <tr>\n",
       "      <th>country</th>\n",
       "      <td>0</td>\n",
       "      <td>0</td>\n",
       "      <td>object</td>\n",
       "      <td>3</td>\n",
       "    </tr>\n",
       "    <tr>\n",
       "      <th>gender</th>\n",
       "      <td>0</td>\n",
       "      <td>0</td>\n",
       "      <td>object</td>\n",
       "      <td>2</td>\n",
       "    </tr>\n",
       "    <tr>\n",
       "      <th>age</th>\n",
       "      <td>0</td>\n",
       "      <td>0</td>\n",
       "      <td>int64</td>\n",
       "      <td>70</td>\n",
       "    </tr>\n",
       "    <tr>\n",
       "      <th>tenure</th>\n",
       "      <td>0</td>\n",
       "      <td>0</td>\n",
       "      <td>int64</td>\n",
       "      <td>11</td>\n",
       "    </tr>\n",
       "    <tr>\n",
       "      <th>balance</th>\n",
       "      <td>0</td>\n",
       "      <td>0</td>\n",
       "      <td>float64</td>\n",
       "      <td>6382</td>\n",
       "    </tr>\n",
       "    <tr>\n",
       "      <th>products_number</th>\n",
       "      <td>0</td>\n",
       "      <td>0</td>\n",
       "      <td>int64</td>\n",
       "      <td>4</td>\n",
       "    </tr>\n",
       "    <tr>\n",
       "      <th>credit_card</th>\n",
       "      <td>0</td>\n",
       "      <td>0</td>\n",
       "      <td>int64</td>\n",
       "      <td>2</td>\n",
       "    </tr>\n",
       "    <tr>\n",
       "      <th>active_member</th>\n",
       "      <td>0</td>\n",
       "      <td>0</td>\n",
       "      <td>int64</td>\n",
       "      <td>2</td>\n",
       "    </tr>\n",
       "    <tr>\n",
       "      <th>estimated_salary</th>\n",
       "      <td>0</td>\n",
       "      <td>0</td>\n",
       "      <td>float64</td>\n",
       "      <td>9999</td>\n",
       "    </tr>\n",
       "    <tr>\n",
       "      <th>churn</th>\n",
       "      <td>0</td>\n",
       "      <td>0</td>\n",
       "      <td>int64</td>\n",
       "      <td>2</td>\n",
       "    </tr>\n",
       "  </tbody>\n",
       "</table>\n",
       "</div>"
      ],
      "text/plain": [
       "                  missing_values   duplicated  data_types   unique_values \n",
       "customer_id                     0            0       int64           10000\n",
       "credit_score                    0            0       int64             460\n",
       "country                         0            0      object               3\n",
       "gender                          0            0      object               2\n",
       "age                             0            0       int64              70\n",
       "tenure                          0            0       int64              11\n",
       "balance                         0            0     float64            6382\n",
       "products_number                 0            0       int64               4\n",
       "credit_card                     0            0       int64               2\n",
       "active_member                   0            0       int64               2\n",
       "estimated_salary                0            0     float64            9999\n",
       "churn                           0            0       int64               2"
      ]
     },
     "execution_count": 37,
     "metadata": {},
     "output_type": "execute_result"
    }
   ],
   "source": [
    "# a pandas dataframe for missing_values and duplicates and data types and  unique values because it makes it more cleaner for me\n",
    "\n",
    "missing_values = df.isnull().sum()\n",
    "duplicated = df.duplicated().sum()\n",
    "data_types = df.dtypes\n",
    "unique_values = df.nunique()\n",
    "\n",
    "columns = pd.DataFrame({\n",
    "    \"missing_values \":missing_values,\n",
    "    \"duplicated \":duplicated,\n",
    "    \"data_types \":data_types,\n",
    "    \"unique_values \":unique_values\n",
    "    \n",
    "})\n",
    "\n",
    "columns"
   ]
  },
  {
   "cell_type": "code",
   "execution_count": 38,
   "id": "f83a837d",
   "metadata": {
    "execution": {
     "iopub.execute_input": "2023-07-12T14:14:48.385114Z",
     "iopub.status.busy": "2023-07-12T14:14:48.383981Z",
     "iopub.status.idle": "2023-07-12T14:14:48.434743Z",
     "shell.execute_reply": "2023-07-12T14:14:48.433431Z"
    },
    "papermill": {
     "duration": 0.068352,
     "end_time": "2023-07-12T14:14:48.437331",
     "exception": false,
     "start_time": "2023-07-12T14:14:48.368979",
     "status": "completed"
    },
    "tags": []
   },
   "outputs": [
    {
     "data": {
      "text/html": [
       "<div>\n",
       "<style scoped>\n",
       "    .dataframe tbody tr th:only-of-type {\n",
       "        vertical-align: middle;\n",
       "    }\n",
       "\n",
       "    .dataframe tbody tr th {\n",
       "        vertical-align: top;\n",
       "    }\n",
       "\n",
       "    .dataframe thead th {\n",
       "        text-align: right;\n",
       "    }\n",
       "</style>\n",
       "<table border=\"1\" class=\"dataframe\">\n",
       "  <thead>\n",
       "    <tr style=\"text-align: right;\">\n",
       "      <th></th>\n",
       "      <th>customer_id</th>\n",
       "      <th>credit_score</th>\n",
       "      <th>age</th>\n",
       "      <th>tenure</th>\n",
       "      <th>balance</th>\n",
       "      <th>products_number</th>\n",
       "      <th>credit_card</th>\n",
       "      <th>active_member</th>\n",
       "      <th>estimated_salary</th>\n",
       "      <th>churn</th>\n",
       "    </tr>\n",
       "  </thead>\n",
       "  <tbody>\n",
       "    <tr>\n",
       "      <th>count</th>\n",
       "      <td>1.000000e+04</td>\n",
       "      <td>10000.000000</td>\n",
       "      <td>10000.000000</td>\n",
       "      <td>10000.000000</td>\n",
       "      <td>10000.000000</td>\n",
       "      <td>10000.000000</td>\n",
       "      <td>10000.00000</td>\n",
       "      <td>10000.000000</td>\n",
       "      <td>10000.000000</td>\n",
       "      <td>10000.000000</td>\n",
       "    </tr>\n",
       "    <tr>\n",
       "      <th>mean</th>\n",
       "      <td>1.569094e+07</td>\n",
       "      <td>650.528800</td>\n",
       "      <td>38.921800</td>\n",
       "      <td>5.012800</td>\n",
       "      <td>76485.889288</td>\n",
       "      <td>1.530200</td>\n",
       "      <td>0.70550</td>\n",
       "      <td>0.515100</td>\n",
       "      <td>100090.239881</td>\n",
       "      <td>0.203700</td>\n",
       "    </tr>\n",
       "    <tr>\n",
       "      <th>std</th>\n",
       "      <td>7.193619e+04</td>\n",
       "      <td>96.653299</td>\n",
       "      <td>10.487806</td>\n",
       "      <td>2.892174</td>\n",
       "      <td>62397.405202</td>\n",
       "      <td>0.581654</td>\n",
       "      <td>0.45584</td>\n",
       "      <td>0.499797</td>\n",
       "      <td>57510.492818</td>\n",
       "      <td>0.402769</td>\n",
       "    </tr>\n",
       "    <tr>\n",
       "      <th>min</th>\n",
       "      <td>1.556570e+07</td>\n",
       "      <td>350.000000</td>\n",
       "      <td>18.000000</td>\n",
       "      <td>0.000000</td>\n",
       "      <td>0.000000</td>\n",
       "      <td>1.000000</td>\n",
       "      <td>0.00000</td>\n",
       "      <td>0.000000</td>\n",
       "      <td>11.580000</td>\n",
       "      <td>0.000000</td>\n",
       "    </tr>\n",
       "    <tr>\n",
       "      <th>25%</th>\n",
       "      <td>1.562853e+07</td>\n",
       "      <td>584.000000</td>\n",
       "      <td>32.000000</td>\n",
       "      <td>3.000000</td>\n",
       "      <td>0.000000</td>\n",
       "      <td>1.000000</td>\n",
       "      <td>0.00000</td>\n",
       "      <td>0.000000</td>\n",
       "      <td>51002.110000</td>\n",
       "      <td>0.000000</td>\n",
       "    </tr>\n",
       "    <tr>\n",
       "      <th>50%</th>\n",
       "      <td>1.569074e+07</td>\n",
       "      <td>652.000000</td>\n",
       "      <td>37.000000</td>\n",
       "      <td>5.000000</td>\n",
       "      <td>97198.540000</td>\n",
       "      <td>1.000000</td>\n",
       "      <td>1.00000</td>\n",
       "      <td>1.000000</td>\n",
       "      <td>100193.915000</td>\n",
       "      <td>0.000000</td>\n",
       "    </tr>\n",
       "    <tr>\n",
       "      <th>75%</th>\n",
       "      <td>1.575323e+07</td>\n",
       "      <td>718.000000</td>\n",
       "      <td>44.000000</td>\n",
       "      <td>7.000000</td>\n",
       "      <td>127644.240000</td>\n",
       "      <td>2.000000</td>\n",
       "      <td>1.00000</td>\n",
       "      <td>1.000000</td>\n",
       "      <td>149388.247500</td>\n",
       "      <td>0.000000</td>\n",
       "    </tr>\n",
       "    <tr>\n",
       "      <th>max</th>\n",
       "      <td>1.581569e+07</td>\n",
       "      <td>850.000000</td>\n",
       "      <td>92.000000</td>\n",
       "      <td>10.000000</td>\n",
       "      <td>250898.090000</td>\n",
       "      <td>4.000000</td>\n",
       "      <td>1.00000</td>\n",
       "      <td>1.000000</td>\n",
       "      <td>199992.480000</td>\n",
       "      <td>1.000000</td>\n",
       "    </tr>\n",
       "  </tbody>\n",
       "</table>\n",
       "</div>"
      ],
      "text/plain": [
       "        customer_id  credit_score           age        tenure        balance  \\\n",
       "count  1.000000e+04  10000.000000  10000.000000  10000.000000   10000.000000   \n",
       "mean   1.569094e+07    650.528800     38.921800      5.012800   76485.889288   \n",
       "std    7.193619e+04     96.653299     10.487806      2.892174   62397.405202   \n",
       "min    1.556570e+07    350.000000     18.000000      0.000000       0.000000   \n",
       "25%    1.562853e+07    584.000000     32.000000      3.000000       0.000000   \n",
       "50%    1.569074e+07    652.000000     37.000000      5.000000   97198.540000   \n",
       "75%    1.575323e+07    718.000000     44.000000      7.000000  127644.240000   \n",
       "max    1.581569e+07    850.000000     92.000000     10.000000  250898.090000   \n",
       "\n",
       "       products_number  credit_card  active_member  estimated_salary  \\\n",
       "count     10000.000000  10000.00000   10000.000000      10000.000000   \n",
       "mean          1.530200      0.70550       0.515100     100090.239881   \n",
       "std           0.581654      0.45584       0.499797      57510.492818   \n",
       "min           1.000000      0.00000       0.000000         11.580000   \n",
       "25%           1.000000      0.00000       0.000000      51002.110000   \n",
       "50%           1.000000      1.00000       1.000000     100193.915000   \n",
       "75%           2.000000      1.00000       1.000000     149388.247500   \n",
       "max           4.000000      1.00000       1.000000     199992.480000   \n",
       "\n",
       "              churn  \n",
       "count  10000.000000  \n",
       "mean       0.203700  \n",
       "std        0.402769  \n",
       "min        0.000000  \n",
       "25%        0.000000  \n",
       "50%        0.000000  \n",
       "75%        0.000000  \n",
       "max        1.000000  "
      ]
     },
     "execution_count": 38,
     "metadata": {},
     "output_type": "execute_result"
    }
   ],
   "source": [
    "df.describe()\n",
    "\n"
   ]
  },
  {
   "cell_type": "code",
   "execution_count": 39,
   "id": "9195fa58",
   "metadata": {
    "execution": {
     "iopub.execute_input": "2023-07-12T14:14:48.467887Z",
     "iopub.status.busy": "2023-07-12T14:14:48.467443Z",
     "iopub.status.idle": "2023-07-12T14:14:48.496951Z",
     "shell.execute_reply": "2023-07-12T14:14:48.495522Z"
    },
    "papermill": {
     "duration": 0.048113,
     "end_time": "2023-07-12T14:14:48.499813",
     "exception": false,
     "start_time": "2023-07-12T14:14:48.451700",
     "status": "completed"
    },
    "tags": []
   },
   "outputs": [],
   "source": [
    "# quering using pandas .query\n",
    "male_churned  = df.query(\"gender == 'Male' and churn == 1\")\n",
    "male_non_churned = df.query(\"gender == 'Male' and churn == 0\")\n",
    "female_churned  = df.query(\"gender == 'Female' and churn == 1\")\n",
    "female_non_churned = df.query(\"gender == 'Female' and churn == 0\")"
   ]
  },
  {
   "cell_type": "code",
   "execution_count": 40,
   "id": "9685304b",
   "metadata": {
    "execution": {
     "iopub.execute_input": "2023-07-12T14:14:48.532278Z",
     "iopub.status.busy": "2023-07-12T14:14:48.531320Z",
     "iopub.status.idle": "2023-07-12T14:14:48.546236Z",
     "shell.execute_reply": "2023-07-12T14:14:48.544753Z"
    },
    "papermill": {
     "duration": 0.034106,
     "end_time": "2023-07-12T14:14:48.548858",
     "exception": false,
     "start_time": "2023-07-12T14:14:48.514752",
     "status": "completed"
    },
    "tags": []
   },
   "outputs": [
    {
     "name": "stdout",
     "output_type": "stream",
     "text": [
      "Churn Rate - Male: 0.16455928165658787\n",
      "Churn Rate - Female: 0.2507153863086066\n"
     ]
    }
   ],
   "source": [
    "\n",
    "male_churn_rate = len(male_churned) / len(df.query(\"gender == 'Male'\"))\n",
    "female_churn_rate = len(female_churned) / len(df.query(\"gender == 'Female'\"))\n",
    "\n",
    "print(\"Churn Rate - Male:\", male_churn_rate)\n",
    "print(\"Churn Rate - Female:\", female_churn_rate)\n",
    "\n"
   ]
  },
  {
   "cell_type": "markdown",
   "id": "118e6967",
   "metadata": {
    "papermill": {
     "duration": 0.013848,
     "end_time": "2023-07-12T14:14:48.576951",
     "exception": false,
     "start_time": "2023-07-12T14:14:48.563103",
     "status": "completed"
    },
    "tags": []
   },
   "source": [
    "# ***EDA***"
   ]
  },
  {
   "cell_type": "code",
   "execution_count": 41,
   "id": "9435273c",
   "metadata": {
    "execution": {
     "iopub.execute_input": "2023-07-12T14:14:48.606978Z",
     "iopub.status.busy": "2023-07-12T14:14:48.606566Z",
     "iopub.status.idle": "2023-07-12T14:14:49.293624Z",
     "shell.execute_reply": "2023-07-12T14:14:49.292421Z"
    },
    "papermill": {
     "duration": 0.705571,
     "end_time": "2023-07-12T14:14:49.296710",
     "exception": false,
     "start_time": "2023-07-12T14:14:48.591139",
     "status": "completed"
    },
    "tags": []
   },
   "outputs": [
    {
     "data": {
      "image/png": "[encoded data removed]",
      "text/plain": [
       "<Figure size 432x288 with 1 Axes>"
      ]
     },
     "metadata": {
      "needs_background": "light"
     },
     "output_type": "display_data"
    },
    {
     "data": {
      "image/png": "[encoded data removed]",
      "text/plain": [
       "<Figure size 432x288 with 1 Axes>"
      ]
     },
     "metadata": {
      "needs_background": "light"
     },
     "output_type": "display_data"
    }
   ],
   "source": [
    "sns.histplot(male_churned['gender'], label='Churned', color='red')\n",
    "sns.histplot(male_non_churned['gender'], label='Non-Churned')\n",
    "plt.xlabel('Variable')\n",
    "plt.ylabel('Count')\n",
    "plt.title('Distribution of Variable for Male Customers')\n",
    "plt.legend()\n",
    "plt.show()\n",
    "\n",
    "\n",
    "sns.histplot(female_churned['gender'], label='Churned', color='red')\n",
    "sns.histplot(female_non_churned['gender'], label='Non-Churned')\n",
    "plt.xlabel('Variable')\n",
    "plt.ylabel('Count')\n",
    "plt.title('Distribution of Variable for Female Customers')\n",
    "plt.legend()\n",
    "plt.show()"
   ]
  },
  {
   "cell_type": "code",
   "execution_count": 42,
   "id": "d12f971e",
   "metadata": {
    "execution": {
     "iopub.execute_input": "2023-07-12T14:14:58.407906Z",
     "iopub.status.busy": "2023-07-12T14:14:58.407075Z",
     "iopub.status.idle": "2023-07-12T14:14:58.424985Z",
     "shell.execute_reply": "2023-07-12T14:14:58.423517Z"
    },
    "papermill": {
     "duration": 0.043475,
     "end_time": "2023-07-12T14:14:58.427866",
     "exception": false,
     "start_time": "2023-07-12T14:14:58.384391",
     "status": "completed"
    },
    "tags": []
   },
   "outputs": [
    {
     "data": {
      "text/html": [
       "<div>\n",
       "<style scoped>\n",
       "    .dataframe tbody tr th:only-of-type {\n",
       "        vertical-align: middle;\n",
       "    }\n",
       "\n",
       "    .dataframe tbody tr th {\n",
       "        vertical-align: top;\n",
       "    }\n",
       "\n",
       "    .dataframe thead th {\n",
       "        text-align: right;\n",
       "    }\n",
       "</style>\n",
       "<table border=\"1\" class=\"dataframe\">\n",
       "  <thead>\n",
       "    <tr style=\"text-align: right;\">\n",
       "      <th></th>\n",
       "      <th>customer_id</th>\n",
       "      <th>credit_score</th>\n",
       "      <th>country</th>\n",
       "      <th>gender</th>\n",
       "      <th>age</th>\n",
       "      <th>tenure</th>\n",
       "      <th>balance</th>\n",
       "      <th>products_number</th>\n",
       "      <th>credit_card</th>\n",
       "      <th>active_member</th>\n",
       "      <th>estimated_salary</th>\n",
       "      <th>churn</th>\n",
       "    </tr>\n",
       "  </thead>\n",
       "  <tbody>\n",
       "    <tr>\n",
       "      <th>0</th>\n",
       "      <td>15634602</td>\n",
       "      <td>619</td>\n",
       "      <td>France</td>\n",
       "      <td>Female</td>\n",
       "      <td>42</td>\n",
       "      <td>2</td>\n",
       "      <td>0.00</td>\n",
       "      <td>1</td>\n",
       "      <td>1</td>\n",
       "      <td>1</td>\n",
       "      <td>101348.88</td>\n",
       "      <td>1</td>\n",
       "    </tr>\n",
       "    <tr>\n",
       "      <th>1</th>\n",
       "      <td>15647311</td>\n",
       "      <td>608</td>\n",
       "      <td>Spain</td>\n",
       "      <td>Female</td>\n",
       "      <td>41</td>\n",
       "      <td>1</td>\n",
       "      <td>83807.86</td>\n",
       "      <td>1</td>\n",
       "      <td>0</td>\n",
       "      <td>1</td>\n",
       "      <td>112542.58</td>\n",
       "      <td>0</td>\n",
       "    </tr>\n",
       "    <tr>\n",
       "      <th>2</th>\n",
       "      <td>15619304</td>\n",
       "      <td>502</td>\n",
       "      <td>France</td>\n",
       "      <td>Female</td>\n",
       "      <td>42</td>\n",
       "      <td>8</td>\n",
       "      <td>159660.80</td>\n",
       "      <td>3</td>\n",
       "      <td>1</td>\n",
       "      <td>0</td>\n",
       "      <td>113931.57</td>\n",
       "      <td>1</td>\n",
       "    </tr>\n",
       "    <tr>\n",
       "      <th>3</th>\n",
       "      <td>15701354</td>\n",
       "      <td>699</td>\n",
       "      <td>France</td>\n",
       "      <td>Female</td>\n",
       "      <td>39</td>\n",
       "      <td>1</td>\n",
       "      <td>0.00</td>\n",
       "      <td>2</td>\n",
       "      <td>0</td>\n",
       "      <td>0</td>\n",
       "      <td>93826.63</td>\n",
       "      <td>0</td>\n",
       "    </tr>\n",
       "    <tr>\n",
       "      <th>4</th>\n",
       "      <td>15737888</td>\n",
       "      <td>850</td>\n",
       "      <td>Spain</td>\n",
       "      <td>Female</td>\n",
       "      <td>43</td>\n",
       "      <td>2</td>\n",
       "      <td>125510.82</td>\n",
       "      <td>1</td>\n",
       "      <td>1</td>\n",
       "      <td>1</td>\n",
       "      <td>79084.10</td>\n",
       "      <td>0</td>\n",
       "    </tr>\n",
       "  </tbody>\n",
       "</table>\n",
       "</div>"
      ],
      "text/plain": [
       "   customer_id  credit_score country  gender  age  tenure    balance  \\\n",
       "0     15634602           619  France  Female   42       2       0.00   \n",
       "1     15647311           608   Spain  Female   41       1   83807.86   \n",
       "2     15619304           502  France  Female   42       8  159660.80   \n",
       "3     15701354           699  France  Female   39       1       0.00   \n",
       "4     15737888           850   Spain  Female   43       2  125510.82   \n",
       "\n",
       "   products_number  credit_card  active_member  estimated_salary  churn  \n",
       "0                1            1              1         101348.88      1  \n",
       "1                1            0              1         112542.58      0  \n",
       "2                3            1              0         113931.57      1  \n",
       "3                2            0              0          93826.63      0  \n",
       "4                1            1              1          79084.10      0  "
      ]
     },
     "execution_count": 42,
     "metadata": {},
     "output_type": "execute_result"
    }
   ],
   "source": [
    "df.head()"
   ]
  },
  {
   "cell_type": "markdown",
   "id": "afb3d46a",
   "metadata": {
    "papermill": {
     "duration": 0.022735,
     "end_time": "2023-07-12T14:14:59.144230",
     "exception": false,
     "start_time": "2023-07-12T14:14:59.121495",
     "status": "completed"
    },
    "tags": []
   },
   "source": [
    "# ***Feature Engineering***"
   ]
  },
  {
   "cell_type": "code",
   "execution_count": 43,
   "id": "4861fee0",
   "metadata": {
    "execution": {
     "iopub.execute_input": "2023-07-12T14:14:59.191023Z",
     "iopub.status.busy": "2023-07-12T14:14:59.190603Z",
     "iopub.status.idle": "2023-07-12T14:14:59.200122Z",
     "shell.execute_reply": "2023-07-12T14:14:59.198767Z"
    },
    "papermill": {
     "duration": 0.035826,
     "end_time": "2023-07-12T14:14:59.202583",
     "exception": false,
     "start_time": "2023-07-12T14:14:59.166757",
     "status": "completed"
    },
    "tags": []
   },
   "outputs": [],
   "source": [
    "df_new = pd.get_dummies(df['country'])\n",
    "df1 = pd.concat([df, df_new], axis=1)"
   ]
  },
  {
   "cell_type": "code",
   "execution_count": 44,
   "id": "6d03ae20",
   "metadata": {
    "execution": {
     "iopub.execute_input": "2023-07-12T14:14:59.249720Z",
     "iopub.status.busy": "2023-07-12T14:14:59.248915Z",
     "iopub.status.idle": "2023-07-12T14:14:59.255661Z",
     "shell.execute_reply": "2023-07-12T14:14:59.254569Z"
    },
    "papermill": {
     "duration": 0.033179,
     "end_time": "2023-07-12T14:14:59.258416",
     "exception": false,
     "start_time": "2023-07-12T14:14:59.225237",
     "status": "completed"
    },
    "tags": []
   },
   "outputs": [],
   "source": [
    "df1.drop(columns=['country'],inplace=True)"
   ]
  },
  {
   "cell_type": "code",
   "execution_count": 45,
   "id": "4f52c5ef",
   "metadata": {
    "execution": {
     "iopub.execute_input": "2023-07-12T14:14:59.305563Z",
     "iopub.status.busy": "2023-07-12T14:14:59.305155Z",
     "iopub.status.idle": "2023-07-12T14:14:59.499370Z",
     "shell.execute_reply": "2023-07-12T14:14:59.498290Z"
    },
    "papermill": {
     "duration": 0.220777,
     "end_time": "2023-07-12T14:14:59.502247",
     "exception": false,
     "start_time": "2023-07-12T14:14:59.281470",
     "status": "completed"
    },
    "tags": []
   },
   "outputs": [],
   "source": [
    "from sklearn.preprocessing import LabelEncoder\n",
    "\n",
    "encoder = LabelEncoder()\n",
    "\n",
    "df1['gender'] = encoder.fit_transform(df1['gender']) "
   ]
  },
  {
   "cell_type": "code",
   "execution_count": 46,
   "id": "778e5ca9",
   "metadata": {
    "execution": {
     "iopub.execute_input": "2023-07-12T14:14:59.549669Z",
     "iopub.status.busy": "2023-07-12T14:14:59.548906Z",
     "iopub.status.idle": "2023-07-12T14:14:59.571977Z",
     "shell.execute_reply": "2023-07-12T14:14:59.570567Z"
    },
    "papermill": {
     "duration": 0.049988,
     "end_time": "2023-07-12T14:14:59.574531",
     "exception": false,
     "start_time": "2023-07-12T14:14:59.524543",
     "status": "completed"
    },
    "tags": []
   },
   "outputs": [
    {
     "data": {
      "text/html": [
       "<div>\n",
       "<style scoped>\n",
       "    .dataframe tbody tr th:only-of-type {\n",
       "        vertical-align: middle;\n",
       "    }\n",
       "\n",
       "    .dataframe tbody tr th {\n",
       "        vertical-align: top;\n",
       "    }\n",
       "\n",
       "    .dataframe thead th {\n",
       "        text-align: right;\n",
       "    }\n",
       "</style>\n",
       "<table border=\"1\" class=\"dataframe\">\n",
       "  <thead>\n",
       "    <tr style=\"text-align: right;\">\n",
       "      <th></th>\n",
       "      <th>customer_id</th>\n",
       "      <th>credit_score</th>\n",
       "      <th>gender</th>\n",
       "      <th>age</th>\n",
       "      <th>tenure</th>\n",
       "      <th>balance</th>\n",
       "      <th>products_number</th>\n",
       "      <th>credit_card</th>\n",
       "      <th>active_member</th>\n",
       "      <th>estimated_salary</th>\n",
       "      <th>churn</th>\n",
       "      <th>France</th>\n",
       "      <th>Germany</th>\n",
       "      <th>Spain</th>\n",
       "    </tr>\n",
       "  </thead>\n",
       "  <tbody>\n",
       "    <tr>\n",
       "      <th>0</th>\n",
       "      <td>15634602</td>\n",
       "      <td>619</td>\n",
       "      <td>0</td>\n",
       "      <td>42</td>\n",
       "      <td>2</td>\n",
       "      <td>0.00</td>\n",
       "      <td>1</td>\n",
       "      <td>1</td>\n",
       "      <td>1</td>\n",
       "      <td>101348.88</td>\n",
       "      <td>1</td>\n",
       "      <td>True</td>\n",
       "      <td>False</td>\n",
       "      <td>False</td>\n",
       "    </tr>\n",
       "    <tr>\n",
       "      <th>1</th>\n",
       "      <td>15647311</td>\n",
       "      <td>608</td>\n",
       "      <td>0</td>\n",
       "      <td>41</td>\n",
       "      <td>1</td>\n",
       "      <td>83807.86</td>\n",
       "      <td>1</td>\n",
       "      <td>0</td>\n",
       "      <td>1</td>\n",
       "      <td>112542.58</td>\n",
       "      <td>0</td>\n",
       "      <td>False</td>\n",
       "      <td>False</td>\n",
       "      <td>True</td>\n",
       "    </tr>\n",
       "    <tr>\n",
       "      <th>2</th>\n",
       "      <td>15619304</td>\n",
       "      <td>502</td>\n",
       "      <td>0</td>\n",
       "      <td>42</td>\n",
       "      <td>8</td>\n",
       "      <td>159660.80</td>\n",
       "      <td>3</td>\n",
       "      <td>1</td>\n",
       "      <td>0</td>\n",
       "      <td>113931.57</td>\n",
       "      <td>1</td>\n",
       "      <td>True</td>\n",
       "      <td>False</td>\n",
       "      <td>False</td>\n",
       "    </tr>\n",
       "    <tr>\n",
       "      <th>3</th>\n",
       "      <td>15701354</td>\n",
       "      <td>699</td>\n",
       "      <td>0</td>\n",
       "      <td>39</td>\n",
       "      <td>1</td>\n",
       "      <td>0.00</td>\n",
       "      <td>2</td>\n",
       "      <td>0</td>\n",
       "      <td>0</td>\n",
       "      <td>93826.63</td>\n",
       "      <td>0</td>\n",
       "      <td>True</td>\n",
       "      <td>False</td>\n",
       "      <td>False</td>\n",
       "    </tr>\n",
       "    <tr>\n",
       "      <th>4</th>\n",
       "      <td>15737888</td>\n",
       "      <td>850</td>\n",
       "      <td>0</td>\n",
       "      <td>43</td>\n",
       "      <td>2</td>\n",
       "      <td>125510.82</td>\n",
       "      <td>1</td>\n",
       "      <td>1</td>\n",
       "      <td>1</td>\n",
       "      <td>79084.10</td>\n",
       "      <td>0</td>\n",
       "      <td>False</td>\n",
       "      <td>False</td>\n",
       "      <td>True</td>\n",
       "    </tr>\n",
       "    <tr>\n",
       "      <th>...</th>\n",
       "      <td>...</td>\n",
       "      <td>...</td>\n",
       "      <td>...</td>\n",
       "      <td>...</td>\n",
       "      <td>...</td>\n",
       "      <td>...</td>\n",
       "      <td>...</td>\n",
       "      <td>...</td>\n",
       "      <td>...</td>\n",
       "      <td>...</td>\n",
       "      <td>...</td>\n",
       "      <td>...</td>\n",
       "      <td>...</td>\n",
       "      <td>...</td>\n",
       "    </tr>\n",
       "    <tr>\n",
       "      <th>9995</th>\n",
       "      <td>15606229</td>\n",
       "      <td>771</td>\n",
       "      <td>1</td>\n",
       "      <td>39</td>\n",
       "      <td>5</td>\n",
       "      <td>0.00</td>\n",
       "      <td>2</td>\n",
       "      <td>1</td>\n",
       "      <td>0</td>\n",
       "      <td>96270.64</td>\n",
       "      <td>0</td>\n",
       "      <td>True</td>\n",
       "      <td>False</td>\n",
       "      <td>False</td>\n",
       "    </tr>\n",
       "    <tr>\n",
       "      <th>9996</th>\n",
       "      <td>15569892</td>\n",
       "      <td>516</td>\n",
       "      <td>1</td>\n",
       "      <td>35</td>\n",
       "      <td>10</td>\n",
       "      <td>57369.61</td>\n",
       "      <td>1</td>\n",
       "      <td>1</td>\n",
       "      <td>1</td>\n",
       "      <td>101699.77</td>\n",
       "      <td>0</td>\n",
       "      <td>True</td>\n",
       "      <td>False</td>\n",
       "      <td>False</td>\n",
       "    </tr>\n",
       "    <tr>\n",
       "      <th>9997</th>\n",
       "      <td>15584532</td>\n",
       "      <td>709</td>\n",
       "      <td>0</td>\n",
       "      <td>36</td>\n",
       "      <td>7</td>\n",
       "      <td>0.00</td>\n",
       "      <td>1</td>\n",
       "      <td>0</td>\n",
       "      <td>1</td>\n",
       "      <td>42085.58</td>\n",
       "      <td>1</td>\n",
       "      <td>True</td>\n",
       "      <td>False</td>\n",
       "      <td>False</td>\n",
       "    </tr>\n",
       "    <tr>\n",
       "      <th>9998</th>\n",
       "      <td>15682355</td>\n",
       "      <td>772</td>\n",
       "      <td>1</td>\n",
       "      <td>42</td>\n",
       "      <td>3</td>\n",
       "      <td>75075.31</td>\n",
       "      <td>2</td>\n",
       "      <td>1</td>\n",
       "      <td>0</td>\n",
       "      <td>92888.52</td>\n",
       "      <td>1</td>\n",
       "      <td>False</td>\n",
       "      <td>True</td>\n",
       "      <td>False</td>\n",
       "    </tr>\n",
       "    <tr>\n",
       "      <th>9999</th>\n",
       "      <td>15628319</td>\n",
       "      <td>792</td>\n",
       "      <td>0</td>\n",
       "      <td>28</td>\n",
       "      <td>4</td>\n",
       "      <td>130142.79</td>\n",
       "      <td>1</td>\n",
       "      <td>1</td>\n",
       "      <td>0</td>\n",
       "      <td>38190.78</td>\n",
       "      <td>0</td>\n",
       "      <td>True</td>\n",
       "      <td>False</td>\n",
       "      <td>False</td>\n",
       "    </tr>\n",
       "  </tbody>\n",
       "</table>\n",
       "<p>10000 rows × 14 columns</p>\n",
       "</div>"
      ],
      "text/plain": [
       "      customer_id  credit_score  gender  age  tenure    balance  \\\n",
       "0        15634602           619       0   42       2       0.00   \n",
       "1        15647311           608       0   41       1   83807.86   \n",
       "2        15619304           502       0   42       8  159660.80   \n",
       "3        15701354           699       0   39       1       0.00   \n",
       "4        15737888           850       0   43       2  125510.82   \n",
       "...           ...           ...     ...  ...     ...        ...   \n",
       "9995     15606229           771       1   39       5       0.00   \n",
       "9996     15569892           516       1   35      10   57369.61   \n",
       "9997     15584532           709       0   36       7       0.00   \n",
       "9998     15682355           772       1   42       3   75075.31   \n",
       "9999     15628319           792       0   28       4  130142.79   \n",
       "\n",
       "      products_number  credit_card  active_member  estimated_salary  churn  \\\n",
       "0                   1            1              1         101348.88      1   \n",
       "1                   1            0              1         112542.58      0   \n",
       "2                   3            1              0         113931.57      1   \n",
       "3                   2            0              0          93826.63      0   \n",
       "4                   1            1              1          79084.10      0   \n",
       "...               ...          ...            ...               ...    ...   \n",
       "9995                2            1              0          96270.64      0   \n",
       "9996                1            1              1         101699.77      0   \n",
       "9997                1            0              1          42085.58      1   \n",
       "9998                2            1              0          92888.52      1   \n",
       "9999                1            1              0          38190.78      0   \n",
       "\n",
       "      France  Germany  Spain  \n",
       "0       True    False  False  \n",
       "1      False    False   True  \n",
       "2       True    False  False  \n",
       "3       True    False  False  \n",
       "4      False    False   True  \n",
       "...      ...      ...    ...  \n",
       "9995    True    False  False  \n",
       "9996    True    False  False  \n",
       "9997    True    False  False  \n",
       "9998   False     True  False  \n",
       "9999    True    False  False  \n",
       "\n",
       "[10000 rows x 14 columns]"
      ]
     },
     "execution_count": 46,
     "metadata": {},
     "output_type": "execute_result"
    }
   ],
   "source": [
    "df1\n",
    "#df1.describe"
   ]
  },
  {
   "cell_type": "code",
   "execution_count": 47,
   "id": "9461b1e2",
   "metadata": {
    "execution": {
     "iopub.execute_input": "2023-07-12T14:14:59.621372Z",
     "iopub.status.busy": "2023-07-12T14:14:59.620600Z",
     "iopub.status.idle": "2023-07-12T14:15:00.436525Z",
     "shell.execute_reply": "2023-07-12T14:15:00.435317Z"
    },
    "papermill": {
     "duration": 0.842396,
     "end_time": "2023-07-12T14:15:00.439317",
     "exception": false,
     "start_time": "2023-07-12T14:14:59.596921",
     "status": "completed"
    },
    "tags": []
   },
   "outputs": [
    {
     "data": {
      "image/png": "[encoded data removed]",
      "text/plain": [
       "<Figure size 1080x720 with 2 Axes>"
      ]
     },
     "metadata": {
      "needs_background": "light"
     },
     "output_type": "display_data"
    }
   ],
   "source": [
    "# Calculate the correlation matrix\n",
    "corr_matrix = df1.corr()\n",
    "\n",
    "# Generate a mask for the upper triangular portion\n",
    "mask = np.triu(np.ones_like(corr_matrix, dtype=bool))\n",
    "\n",
    "\n",
    "# Create the heatmap with the masked portion\n",
    "plt.figure(figsize=(15,10))\n",
    "sns.heatmap(corr_matrix, mask=mask, cmap='coolwarm', annot=True, fmt=\".2f\", cbar=True)\n",
    "\n",
    "plt.title('Correlation Matrix after encoding some columns')\n",
    "# Show the plot\n",
    "plt.show()"
   ]
  },
  {
   "cell_type": "markdown",
   "id": "5136bc6c",
   "metadata": {
    "papermill": {
     "duration": 0.026729,
     "end_time": "2023-07-12T14:15:04.009800",
     "exception": false,
     "start_time": "2023-07-12T14:15:03.983071",
     "status": "completed"
    },
    "tags": []
   },
   "source": [
    "### ***Not that many outliers so we can move ahead***"
   ]
  },
  {
   "cell_type": "code",
   "execution_count": 48,
   "id": "1f91e223",
   "metadata": {
    "execution": {
     "iopub.execute_input": "2023-07-12T14:15:04.066280Z",
     "iopub.status.busy": "2023-07-12T14:15:04.065886Z",
     "iopub.status.idle": "2023-07-12T14:15:04.074541Z",
     "shell.execute_reply": "2023-07-12T14:15:04.073012Z"
    },
    "papermill": {
     "duration": 0.040159,
     "end_time": "2023-07-12T14:15:04.077075",
     "exception": false,
     "start_time": "2023-07-12T14:15:04.036916",
     "status": "completed"
    },
    "tags": []
   },
   "outputs": [
    {
     "data": {
      "text/plain": [
       "Index(['customer_id', 'credit_score', 'gender', 'age', 'tenure', 'balance',\n",
       "       'products_number', 'credit_card', 'active_member', 'estimated_salary',\n",
       "       'churn', 'France', 'Germany', 'Spain'],\n",
       "      dtype='object')"
      ]
     },
     "execution_count": 48,
     "metadata": {},
     "output_type": "execute_result"
    }
   ],
   "source": [
    "df1.columns"
   ]
  },
  {
   "cell_type": "code",
   "execution_count": 49,
   "id": "4a62574d",
   "metadata": {
    "execution": {
     "iopub.execute_input": "2023-07-12T14:15:04.134374Z",
     "iopub.status.busy": "2023-07-12T14:15:04.133970Z",
     "iopub.status.idle": "2023-07-12T14:15:04.148687Z",
     "shell.execute_reply": "2023-07-12T14:15:04.147225Z"
    },
    "papermill": {
     "duration": 0.046933,
     "end_time": "2023-07-12T14:15:04.151630",
     "exception": false,
     "start_time": "2023-07-12T14:15:04.104697",
     "status": "completed"
    },
    "tags": []
   },
   "outputs": [],
   "source": [
    "from sklearn.preprocessing import StandardScaler\n",
    "scaler = StandardScaler()\n",
    "\n",
    "cols = ['credit_score','balance','estimated_salary']\n",
    "\n",
    "df1[cols] = scaler.fit_transform(df1[cols])\n"
   ]
  },
  {
   "cell_type": "code",
   "execution_count": 50,
   "id": "3fbd9326",
   "metadata": {
    "execution": {
     "iopub.execute_input": "2023-07-12T14:15:04.208936Z",
     "iopub.status.busy": "2023-07-12T14:15:04.208548Z",
     "iopub.status.idle": "2023-07-12T14:15:04.214281Z",
     "shell.execute_reply": "2023-07-12T14:15:04.213415Z"
    },
    "papermill": {
     "duration": 0.037612,
     "end_time": "2023-07-12T14:15:04.216738",
     "exception": false,
     "start_time": "2023-07-12T14:15:04.179126",
     "status": "completed"
    },
    "tags": []
   },
   "outputs": [],
   "source": [
    "df1.drop(columns=['customer_id','age'],inplace=True)"
   ]
  },
  {
   "cell_type": "code",
   "execution_count": 51,
   "id": "3eb039ec",
   "metadata": {
    "execution": {
     "iopub.execute_input": "2023-07-12T14:15:04.273679Z",
     "iopub.status.busy": "2023-07-12T14:15:04.273250Z",
     "iopub.status.idle": "2023-07-12T14:15:04.290322Z",
     "shell.execute_reply": "2023-07-12T14:15:04.289143Z"
    },
    "papermill": {
     "duration": 0.04838,
     "end_time": "2023-07-12T14:15:04.292600",
     "exception": false,
     "start_time": "2023-07-12T14:15:04.244220",
     "status": "completed"
    },
    "tags": []
   },
   "outputs": [
    {
     "data": {
      "text/plain": [
       "Index(['credit_score', 'gender', 'tenure', 'balance', 'products_number',\n",
       "       'credit_card', 'active_member', 'estimated_salary', 'churn', 'France',\n",
       "       'Germany', 'Spain'],\n",
       "      dtype='object')"
      ]
     },
     "execution_count": 51,
     "metadata": {},
     "output_type": "execute_result"
    }
   ],
   "source": [
    "#df1.head()\n",
    "df1.columns"
   ]
  },
  {
   "cell_type": "code",
   "execution_count": 52,
   "id": "8dbef8aa",
   "metadata": {},
   "outputs": [
    {
     "name": "stdout",
     "output_type": "stream",
     "text": [
      "credit_score        float64\n",
      "gender                int32\n",
      "tenure                int64\n",
      "balance             float64\n",
      "products_number       int64\n",
      "credit_card           int64\n",
      "active_member         int64\n",
      "estimated_salary    float64\n",
      "churn                 int64\n",
      "France                 bool\n",
      "Germany                bool\n",
      "Spain                  bool\n",
      "dtype: object\n"
     ]
    }
   ],
   "source": [
    "\n",
    "print(df1.dtypes)"
   ]
  },
  {
   "cell_type": "code",
   "execution_count": 53,
   "id": "03b70ab6",
   "metadata": {},
   "outputs": [],
   "source": [
    "proc_df=df1.copy()"
   ]
  },
  {
   "cell_type": "code",
   "execution_count": 54,
   "id": "3b454d9d",
   "metadata": {},
   "outputs": [],
   "source": [
    "proc_df[proc_df.select_dtypes(include='bool').columns]=proc_df.select_dtypes(include='bool')*1"
   ]
  },
  {
   "cell_type": "code",
   "execution_count": 55,
   "id": "f468c1b1",
   "metadata": {},
   "outputs": [
    {
     "name": "stdout",
     "output_type": "stream",
     "text": [
      "credit_score        float64\n",
      "gender                int32\n",
      "tenure                int64\n",
      "balance             float64\n",
      "products_number       int64\n",
      "credit_card           int64\n",
      "active_member         int64\n",
      "estimated_salary    float64\n",
      "churn                 int64\n",
      "France                int32\n",
      "Germany               int32\n",
      "Spain                 int32\n",
      "dtype: object\n"
     ]
    }
   ],
   "source": [
    "print(proc_df.dtypes)"
   ]
  },
  {
   "cell_type": "code",
   "execution_count": 56,
   "id": "70934b15",
   "metadata": {},
   "outputs": [
    {
     "name": "stdout",
     "output_type": "stream",
     "text": [
      "<class 'pandas.core.frame.DataFrame'>\n",
      "RangeIndex: 10000 entries, 0 to 9999\n",
      "Data columns (total 12 columns):\n",
      " #   Column            Non-Null Count  Dtype  \n",
      "---  ------            --------------  -----  \n",
      " 0   credit_score      10000 non-null  float64\n",
      " 1   gender            10000 non-null  int32  \n",
      " 2   tenure            10000 non-null  int64  \n",
      " 3   balance           10000 non-null  float64\n",
      " 4   products_number   10000 non-null  int64  \n",
      " 5   credit_card       10000 non-null  int64  \n",
      " 6   active_member     10000 non-null  int64  \n",
      " 7   estimated_salary  10000 non-null  float64\n",
      " 8   churn             10000 non-null  int64  \n",
      " 9   France            10000 non-null  int32  \n",
      " 10  Germany           10000 non-null  int32  \n",
      " 11  Spain             10000 non-null  int32  \n",
      "dtypes: float64(3), int32(4), int64(5)\n",
      "memory usage: 781.4 KB\n"
     ]
    }
   ],
   "source": [
    "proc_df.info()"
   ]
  },
  {
   "cell_type": "code",
   "execution_count": 57,
   "id": "a17ab110",
   "metadata": {},
   "outputs": [
    {
     "data": {
      "image/png": "[encoded data removed]",
      "text/plain": [
       "<Figure size 864x2592 with 12 Axes>"
      ]
     },
     "metadata": {
      "needs_background": "light"
     },
     "output_type": "display_data"
    }
   ],
   "source": [
    "num_columns = proc_df.shape[1]\n",
    "num_rows = (num_columns + 1) // 2\n",
    "\n",
    "fig, axes = plt.subplots(num_rows, 2, figsize=(12, num_rows*6))\n",
    "axes = axes.flatten()\n",
    "\n",
    "for i, column in enumerate(proc_df.columns):\n",
    "    ax = axes[i]\n",
    "    sns.boxplot(x=proc_df['churn'], y=proc_df[column], ax=ax)\n",
    "    ax.set_title(f'churn vs {column}')\n",
    "\n",
    "plt.tight_layout()\n",
    "plt.show()"
   ]
  },
  {
   "cell_type": "markdown",
   "id": "b8db8715",
   "metadata": {
    "papermill": {
     "duration": 0.02733,
     "end_time": "2023-07-12T14:15:04.347266",
     "exception": false,
     "start_time": "2023-07-12T14:15:04.319936",
     "status": "completed"
    },
    "tags": []
   },
   "source": [
    "# ***Model Training and using pytorch***"
   ]
  },
  {
   "cell_type": "code",
   "execution_count": 58,
   "id": "6765a861",
   "metadata": {
    "execution": {
     "iopub.execute_input": "2023-07-12T14:15:04.405870Z",
     "iopub.status.busy": "2023-07-12T14:15:04.404699Z",
     "iopub.status.idle": "2023-07-12T14:15:04.413637Z",
     "shell.execute_reply": "2023-07-12T14:15:04.412161Z"
    },
    "papermill": {
     "duration": 0.040769,
     "end_time": "2023-07-12T14:15:04.415917",
     "exception": false,
     "start_time": "2023-07-12T14:15:04.375148",
     "status": "completed"
    },
    "tags": []
   },
   "outputs": [
    {
     "name": "stdout",
     "output_type": "stream",
     "text": [
      "(10000, 11)\n",
      "(10000,)\n"
     ]
    }
   ],
   "source": [
    "X = proc_df.drop(columns=['churn'])\n",
    "y = proc_df['churn']\n",
    "\n",
    "print(X.shape)\n",
    "print(y.shape)"
   ]
  },
  {
   "cell_type": "code",
   "execution_count": 59,
   "id": "3f75783c",
   "metadata": {
    "execution": {
     "iopub.execute_input": "2023-07-12T14:15:04.473391Z",
     "iopub.status.busy": "2023-07-12T14:15:04.472637Z",
     "iopub.status.idle": "2023-07-12T14:15:04.609271Z",
     "shell.execute_reply": "2023-07-12T14:15:04.607549Z"
    },
    "papermill": {
     "duration": 0.16876,
     "end_time": "2023-07-12T14:15:04.612072",
     "exception": false,
     "start_time": "2023-07-12T14:15:04.443312",
     "status": "completed"
    },
    "tags": []
   },
   "outputs": [
    {
     "name": "stdout",
     "output_type": "stream",
     "text": [
      "torch.Size([8000, 11])\n",
      "torch.Size([2000, 11])\n",
      "torch.Size([8000])\n",
      "torch.Size([2000])\n",
      "torch.float64\n"
     ]
    }
   ],
   "source": [
    "from sklearn.model_selection import train_test_split\n",
    "\n",
    "X_train ,X_test , y_train , y_test = train_test_split(X , y , test_size=0.2,random_state=42)\n",
    "\n",
    "X_train_tensor = torch.tensor(X_train.values)\n",
    "X_test_tensor = torch.tensor(X_test.values)\n",
    "y_train_tensor = torch.tensor(y_train.values)\n",
    "y_test_tensor = torch.tensor(y_test.values)\n",
    "\n",
    "\n",
    "print(X_train_tensor.shape)\n",
    "print(X_test_tensor.shape)\n",
    "\n",
    "print(y_train_tensor.shape)\n",
    "print(y_test_tensor.shape)\n",
    "print(X_train_tensor.dtype)"
   ]
  },
  {
   "cell_type": "code",
   "execution_count": 60,
   "id": "57acf0e5",
   "metadata": {
    "execution": {
     "iopub.execute_input": "2023-07-12T14:15:04.775849Z",
     "iopub.status.busy": "2023-07-12T14:15:04.775200Z",
     "iopub.status.idle": "2023-07-12T14:15:04.782868Z",
     "shell.execute_reply": "2023-07-12T14:15:04.782021Z"
    },
    "papermill": {
     "duration": 0.039573,
     "end_time": "2023-07-12T14:15:04.785255",
     "exception": false,
     "start_time": "2023-07-12T14:15:04.745682",
     "status": "completed"
    },
    "tags": []
   },
   "outputs": [],
   "source": [
    "class Ann(nn.Module):\n",
    "    def __init__(self, input_size=11, hidden1=32, hidden2=16, hidden3=8, output=2):\n",
    "        super(Ann, self).__init__()\n",
    "        self.f1 = nn.Linear(input_size, hidden1)\n",
    "        self.f2 = nn.Linear(hidden1, hidden2)\n",
    "        self.f3 = nn.Linear(hidden2, hidden3)\n",
    "        self.output = nn.Linear(hidden3, output)\n",
    "            \n",
    "    def forward(self, x):\n",
    "        x = F.relu(self.f1(x))\n",
    "        x = F.relu(self.f2(x))\n",
    "        x = F.relu(self.f3(x))\n",
    "        x = self.output(x)\n",
    "        return x"
   ]
  },
  {
   "cell_type": "code",
   "execution_count": 61,
   "id": "e017d9fa",
   "metadata": {
    "execution": {
     "iopub.execute_input": "2023-07-12T14:15:04.842605Z",
     "iopub.status.busy": "2023-07-12T14:15:04.841973Z",
     "iopub.status.idle": "2023-07-12T14:15:04.861008Z",
     "shell.execute_reply": "2023-07-12T14:15:04.860100Z"
    },
    "papermill": {
     "duration": 0.050943,
     "end_time": "2023-07-12T14:15:04.863630",
     "exception": false,
     "start_time": "2023-07-12T14:15:04.812687",
     "status": "completed"
    },
    "tags": []
   },
   "outputs": [],
   "source": [
    "model = Ann(input_size=11, hidden1=32, hidden2=16, hidden3=8, output=2)"
   ]
  },
  {
   "cell_type": "code",
   "execution_count": 62,
   "id": "f46951e1",
   "metadata": {
    "execution": {
     "iopub.execute_input": "2023-07-12T14:15:04.921148Z",
     "iopub.status.busy": "2023-07-12T14:15:04.920520Z",
     "iopub.status.idle": "2023-07-12T14:15:04.925243Z",
     "shell.execute_reply": "2023-07-12T14:15:04.924381Z"
    },
    "papermill": {
     "duration": 0.036089,
     "end_time": "2023-07-12T14:15:04.927447",
     "exception": false,
     "start_time": "2023-07-12T14:15:04.891358",
     "status": "completed"
    },
    "tags": []
   },
   "outputs": [],
   "source": [
    "criterion = nn.CrossEntropyLoss()\n",
    "optimizer = optim.Adam(model.parameters(), lr=0.001)"
   ]
  },
  {
   "cell_type": "code",
   "execution_count": 63,
   "id": "24dc227d",
   "metadata": {
    "execution": {
     "iopub.execute_input": "2023-07-12T14:15:04.985381Z",
     "iopub.status.busy": "2023-07-12T14:15:04.984678Z",
     "iopub.status.idle": "2023-07-12T14:15:32.813368Z",
     "shell.execute_reply": "2023-07-12T14:15:32.812410Z"
    },
    "papermill": {
     "duration": 27.860347,
     "end_time": "2023-07-12T14:15:32.815974",
     "exception": false,
     "start_time": "2023-07-12T14:15:04.955627",
     "status": "completed"
    },
    "tags": []
   },
   "outputs": [
    {
     "name": "stdout",
     "output_type": "stream",
     "text": [
      "Epoch number: 1000 and the loss: 0.5926114320755005\n",
      "Epoch number: 1010 and the loss: 0.5634332895278931\n",
      "Epoch number: 1020 and the loss: 0.5363763570785522\n",
      "Epoch number: 1030 and the loss: 0.5169637799263\n",
      "Epoch number: 1040 and the loss: 0.5040329098701477\n",
      "Epoch number: 1050 and the loss: 0.5001246929168701\n",
      "Epoch number: 1060 and the loss: 0.4974803030490875\n",
      "Epoch number: 1070 and the loss: 0.4938957691192627\n",
      "Epoch number: 1080 and the loss: 0.49108561873435974\n",
      "Epoch number: 1090 and the loss: 0.4884323179721832\n",
      "Epoch number: 1100 and the loss: 0.4857686460018158\n",
      "Epoch number: 1110 and the loss: 0.4827987849712372\n",
      "Epoch number: 1120 and the loss: 0.47972702980041504\n",
      "Epoch number: 1130 and the loss: 0.47668102383613586\n",
      "Epoch number: 1140 and the loss: 0.47410377860069275\n",
      "Epoch number: 1150 and the loss: 0.4721142649650574\n",
      "Epoch number: 1160 and the loss: 0.47045406699180603\n",
      "Epoch number: 1170 and the loss: 0.4686563313007355\n",
      "Epoch number: 1180 and the loss: 0.4661497175693512\n",
      "Epoch number: 1190 and the loss: 0.4628311097621918\n",
      "Epoch number: 1200 and the loss: 0.4585101306438446\n",
      "Epoch number: 1210 and the loss: 0.4528542160987854\n",
      "Epoch number: 1220 and the loss: 0.4457070231437683\n",
      "Epoch number: 1230 and the loss: 0.436663419008255\n",
      "Epoch number: 1240 and the loss: 0.42761939764022827\n",
      "Epoch number: 1250 and the loss: 0.4185999035835266\n",
      "Epoch number: 1260 and the loss: 0.409817099571228\n",
      "Epoch number: 1270 and the loss: 0.401903361082077\n",
      "Epoch number: 1280 and the loss: 0.3951799273490906\n",
      "Epoch number: 1290 and the loss: 0.38981765508651733\n",
      "Epoch number: 1300 and the loss: 0.3860515356063843\n",
      "Epoch number: 1310 and the loss: 0.38353005051612854\n",
      "Epoch number: 1320 and the loss: 0.3817995488643646\n",
      "Epoch number: 1330 and the loss: 0.3804824948310852\n",
      "Epoch number: 1340 and the loss: 0.3793836236000061\n",
      "Epoch number: 1350 and the loss: 0.37832802534103394\n",
      "Epoch number: 1360 and the loss: 0.3773798942565918\n",
      "Epoch number: 1370 and the loss: 0.3764582872390747\n",
      "Epoch number: 1380 and the loss: 0.37563085556030273\n",
      "Epoch number: 1390 and the loss: 0.3747304379940033\n",
      "Epoch number: 1400 and the loss: 0.37384897470474243\n",
      "Epoch number: 1410 and the loss: 0.372972309589386\n",
      "Epoch number: 1420 and the loss: 0.3720540702342987\n",
      "Epoch number: 1430 and the loss: 0.3711432218551636\n",
      "Epoch number: 1440 and the loss: 0.37042468786239624\n",
      "Epoch number: 1450 and the loss: 0.3694841265678406\n",
      "Epoch number: 1460 and the loss: 0.36869171261787415\n",
      "Epoch number: 1470 and the loss: 0.3679118752479553\n",
      "Epoch number: 1480 and the loss: 0.3671618700027466\n",
      "Epoch number: 1490 and the loss: 0.3664668798446655\n",
      "Epoch number: 1500 and the loss: 0.36581698060035706\n",
      "Epoch number: 1510 and the loss: 0.36510318517684937\n",
      "Epoch number: 1520 and the loss: 0.3646126687526703\n",
      "Epoch number: 1530 and the loss: 0.363654762506485\n",
      "Epoch number: 1540 and the loss: 0.3630675673484802\n",
      "Epoch number: 1550 and the loss: 0.36252471804618835\n",
      "Epoch number: 1560 and the loss: 0.3620181083679199\n",
      "Epoch number: 1570 and the loss: 0.36149707436561584\n",
      "Epoch number: 1580 and the loss: 0.3610311448574066\n",
      "Epoch number: 1590 and the loss: 0.36086520552635193\n",
      "Epoch number: 1600 and the loss: 0.36015576124191284\n",
      "Epoch number: 1610 and the loss: 0.3597913086414337\n",
      "Epoch number: 1620 and the loss: 0.35936427116394043\n",
      "Epoch number: 1630 and the loss: 0.3589605391025543\n",
      "Epoch number: 1640 and the loss: 0.3588700592517853\n",
      "Epoch number: 1650 and the loss: 0.35829901695251465\n",
      "Epoch number: 1660 and the loss: 0.35784608125686646\n",
      "Epoch number: 1670 and the loss: 0.35754111409187317\n",
      "Epoch number: 1680 and the loss: 0.3571693003177643\n",
      "Epoch number: 1690 and the loss: 0.35687291622161865\n",
      "Epoch number: 1700 and the loss: 0.35653477907180786\n",
      "Epoch number: 1710 and the loss: 0.35631656646728516\n",
      "Epoch number: 1720 and the loss: 0.3559889495372772\n",
      "Epoch number: 1730 and the loss: 0.3556321859359741\n",
      "Epoch number: 1740 and the loss: 0.3553047478199005\n",
      "Epoch number: 1750 and the loss: 0.35514482855796814\n",
      "Epoch number: 1760 and the loss: 0.3547820448875427\n",
      "Epoch number: 1770 and the loss: 0.3546399474143982\n",
      "Epoch number: 1780 and the loss: 0.3544216454029083\n",
      "Epoch number: 1790 and the loss: 0.3541555106639862\n",
      "Epoch number: 1800 and the loss: 0.35388708114624023\n",
      "Epoch number: 1810 and the loss: 0.35371366143226624\n",
      "Epoch number: 1820 and the loss: 0.3534901738166809\n",
      "Epoch number: 1830 and the loss: 0.35328999161720276\n",
      "Epoch number: 1840 and the loss: 0.35302844643592834\n",
      "Epoch number: 1850 and the loss: 0.3526957333087921\n",
      "Epoch number: 1860 and the loss: 0.3524526059627533\n",
      "Epoch number: 1870 and the loss: 0.3521914482116699\n",
      "Epoch number: 1880 and the loss: 0.3520849049091339\n",
      "Epoch number: 1890 and the loss: 0.3518359065055847\n",
      "Epoch number: 1900 and the loss: 0.351532906293869\n",
      "Epoch number: 1910 and the loss: 0.35133543610572815\n",
      "Epoch number: 1920 and the loss: 0.35123467445373535\n",
      "Epoch number: 1930 and the loss: 0.35108283162117004\n",
      "Epoch number: 1940 and the loss: 0.3507445156574249\n",
      "Epoch number: 1950 and the loss: 0.35066500306129456\n",
      "Epoch number: 1960 and the loss: 0.3504180312156677\n",
      "Epoch number: 1970 and the loss: 0.35016000270843506\n",
      "Epoch number: 1980 and the loss: 0.35003361105918884\n",
      "Epoch number: 1990 and the loss: 0.3498702347278595\n",
      "Epoch number: 2000 and the loss: 0.3495946228504181\n",
      "Epoch number: 2010 and the loss: 0.34941309690475464\n",
      "Epoch number: 2020 and the loss: 0.34945639967918396\n",
      "Epoch number: 2030 and the loss: 0.34919849038124084\n",
      "Epoch number: 2040 and the loss: 0.3490450084209442\n",
      "Epoch number: 2050 and the loss: 0.34880417585372925\n",
      "Epoch number: 2060 and the loss: 0.3485996425151825\n",
      "Epoch number: 2070 and the loss: 0.34838858246803284\n",
      "Epoch number: 2080 and the loss: 0.34837400913238525\n",
      "Epoch number: 2090 and the loss: 0.34818708896636963\n",
      "Epoch number: 2100 and the loss: 0.3479367196559906\n",
      "Epoch number: 2110 and the loss: 0.34793439507484436\n",
      "Epoch number: 2120 and the loss: 0.3477814793586731\n",
      "Epoch number: 2130 and the loss: 0.34753912687301636\n",
      "Epoch number: 2140 and the loss: 0.3474445641040802\n",
      "Epoch number: 2150 and the loss: 0.3472682535648346\n",
      "Epoch number: 2160 and the loss: 0.34732040762901306\n",
      "Epoch number: 2170 and the loss: 0.34710559248924255\n",
      "Epoch number: 2180 and the loss: 0.34685125946998596\n",
      "Epoch number: 2190 and the loss: 0.34678903222084045\n",
      "Epoch number: 2200 and the loss: 0.34664297103881836\n",
      "Epoch number: 2210 and the loss: 0.3465445339679718\n",
      "Epoch number: 2220 and the loss: 0.34648239612579346\n",
      "Epoch number: 2230 and the loss: 0.3463079035282135\n",
      "Epoch number: 2240 and the loss: 0.34613606333732605\n",
      "Epoch number: 2250 and the loss: 0.34613144397735596\n",
      "Epoch number: 2260 and the loss: 0.34590214490890503\n",
      "Epoch number: 2270 and the loss: 0.34584841132164\n",
      "Epoch number: 2280 and the loss: 0.3457302749156952\n",
      "Epoch number: 2290 and the loss: 0.3457673192024231\n",
      "Epoch number: 2300 and the loss: 0.3456842303276062\n",
      "Epoch number: 2310 and the loss: 0.34547099471092224\n",
      "Epoch number: 2320 and the loss: 0.34530216455459595\n",
      "Epoch number: 2330 and the loss: 0.34522902965545654\n",
      "Epoch number: 2340 and the loss: 0.3452109694480896\n",
      "Epoch number: 2350 and the loss: 0.3450695276260376\n",
      "Epoch number: 2360 and the loss: 0.34489455819129944\n",
      "Epoch number: 2370 and the loss: 0.3448393940925598\n",
      "Epoch number: 2380 and the loss: 0.3446468710899353\n",
      "Epoch number: 2390 and the loss: 0.3445461094379425\n",
      "Epoch number: 2400 and the loss: 0.3449769616127014\n",
      "Epoch number: 2410 and the loss: 0.34460049867630005\n",
      "Epoch number: 2420 and the loss: 0.344340443611145\n",
      "Epoch number: 2430 and the loss: 0.3442181348800659\n",
      "Epoch number: 2440 and the loss: 0.34405502676963806\n",
      "Epoch number: 2450 and the loss: 0.3440326750278473\n",
      "Epoch number: 2460 and the loss: 0.3439170718193054\n",
      "Epoch number: 2470 and the loss: 0.34380847215652466\n",
      "Epoch number: 2480 and the loss: 0.34376728534698486\n",
      "Epoch number: 2490 and the loss: 0.34360530972480774\n",
      "Epoch number: 2500 and the loss: 0.34371575713157654\n",
      "Epoch number: 2510 and the loss: 0.34359389543533325\n",
      "Epoch number: 2520 and the loss: 0.34337663650512695\n",
      "Epoch number: 2530 and the loss: 0.3432401418685913\n",
      "Epoch number: 2540 and the loss: 0.34326329827308655\n",
      "Epoch number: 2550 and the loss: 0.3431171774864197\n",
      "Epoch number: 2560 and the loss: 0.3429725468158722\n",
      "Epoch number: 2570 and the loss: 0.34302347898483276\n",
      "Epoch number: 2580 and the loss: 0.3428051173686981\n",
      "Epoch number: 2590 and the loss: 0.3428358733654022\n",
      "Epoch number: 2600 and the loss: 0.3425846993923187\n",
      "Epoch number: 2610 and the loss: 0.34252509474754333\n",
      "Epoch number: 2620 and the loss: 0.3425694704055786\n",
      "Epoch number: 2630 and the loss: 0.3425436019897461\n",
      "Epoch number: 2640 and the loss: 0.3423015773296356\n",
      "Epoch number: 2650 and the loss: 0.34213578701019287\n",
      "Epoch number: 2660 and the loss: 0.34215307235717773\n",
      "Epoch number: 2670 and the loss: 0.34201404452323914\n",
      "Epoch number: 2680 and the loss: 0.3418719470500946\n",
      "Epoch number: 2690 and the loss: 0.34227174520492554\n",
      "Epoch number: 2700 and the loss: 0.34193721413612366\n",
      "Epoch number: 2710 and the loss: 0.34168514609336853\n",
      "Epoch number: 2720 and the loss: 0.3415112793445587\n",
      "Epoch number: 2730 and the loss: 0.34141331911087036\n",
      "Epoch number: 2740 and the loss: 0.3412867784500122\n",
      "Epoch number: 2750 and the loss: 0.3412964344024658\n",
      "Epoch number: 2760 and the loss: 0.3411223888397217\n",
      "Epoch number: 2770 and the loss: 0.3411104679107666\n",
      "Epoch number: 2780 and the loss: 0.3409002125263214\n",
      "Epoch number: 2790 and the loss: 0.34076589345932007\n",
      "Epoch number: 2800 and the loss: 0.3406767249107361\n",
      "Epoch number: 2810 and the loss: 0.3412851393222809\n",
      "Epoch number: 2820 and the loss: 0.34067901968955994\n",
      "Epoch number: 2830 and the loss: 0.3404524326324463\n",
      "Epoch number: 2840 and the loss: 0.34032994508743286\n",
      "Epoch number: 2850 and the loss: 0.34023863077163696\n",
      "Epoch number: 2860 and the loss: 0.34014299511909485\n",
      "Epoch number: 2870 and the loss: 0.3401397466659546\n",
      "Epoch number: 2880 and the loss: 0.34008151292800903\n",
      "Epoch number: 2890 and the loss: 0.34005340933799744\n",
      "Epoch number: 2900 and the loss: 0.33991724252700806\n",
      "Epoch number: 2910 and the loss: 0.33972659707069397\n",
      "Epoch number: 2920 and the loss: 0.33982229232788086\n",
      "Epoch number: 2930 and the loss: 0.33955660462379456\n",
      "Epoch number: 2940 and the loss: 0.33970019221305847\n",
      "Epoch number: 2950 and the loss: 0.33939456939697266\n",
      "Epoch number: 2960 and the loss: 0.3393998444080353\n",
      "Epoch number: 2970 and the loss: 0.3392249047756195\n",
      "Epoch number: 2980 and the loss: 0.3392864763736725\n",
      "Epoch number: 2990 and the loss: 0.3391079604625702\n"
     ]
    }
   ],
   "source": [
    "epochs = range(1000, 3000)\n",
    "final_loss = []\n",
    "\n",
    "for i in epochs:\n",
    "    X_train_tensor = X_train_tensor.float()\n",
    "    y_pred = model(X_train_tensor)\n",
    "    loss = criterion(y_pred, y_train_tensor)\n",
    "    final_loss.append(loss.item())\n",
    "\n",
    "    if i % 10 == 0:\n",
    "        print(\"Epoch number: {} and the loss: {}\".format(i, loss.item()))\n",
    "\n",
    "    \n",
    "    optimizer.zero_grad()\n",
    "    loss.backward()\n",
    "    optimizer.step()\n",
    "\n"
   ]
  },
  {
   "cell_type": "markdown",
   "id": "2779e3de",
   "metadata": {
    "papermill": {
     "duration": 0.038641,
     "end_time": "2023-07-12T14:15:32.894906",
     "exception": false,
     "start_time": "2023-07-12T14:15:32.856265",
     "status": "completed"
    },
    "tags": []
   },
   "source": [
    "### ***Further we do the predictions using the test data and check the same***"
   ]
  },
  {
   "cell_type": "code",
   "execution_count": 64,
   "id": "5a3802bb",
   "metadata": {
    "execution": {
     "iopub.execute_input": "2023-07-12T14:15:32.974608Z",
     "iopub.status.busy": "2023-07-12T14:15:32.974171Z",
     "iopub.status.idle": "2023-07-12T14:15:33.213577Z",
     "shell.execute_reply": "2023-07-12T14:15:33.212419Z"
    },
    "papermill": {
     "duration": 0.282486,
     "end_time": "2023-07-12T14:15:33.216133",
     "exception": false,
     "start_time": "2023-07-12T14:15:32.933647",
     "status": "completed"
    },
    "tags": []
   },
   "outputs": [
    {
     "data": {
      "text/plain": [
       "[0, 0, 0, 0, 0, 0, 1, 0, 0, 0]"
      ]
     },
     "execution_count": 64,
     "metadata": {},
     "output_type": "execute_result"
    }
   ],
   "source": [
    "predictions = []\n",
    "with torch.no_grad():\n",
    "    X_test_tensor = X_test_tensor.float()\n",
    "    for data in X_test_tensor:\n",
    "        y_pred = model.forward(data)\n",
    "        predicted_class = torch.argmax(y_pred).item()\n",
    "        predictions.append(predicted_class)\n",
    "        \n",
    "predictions[0:10]"
   ]
  },
  {
   "cell_type": "code",
   "execution_count": 65,
   "id": "67873a86",
   "metadata": {
    "execution": {
     "iopub.execute_input": "2023-07-12T14:15:33.298868Z",
     "iopub.status.busy": "2023-07-12T14:15:33.298464Z",
     "iopub.status.idle": "2023-07-12T14:15:33.311378Z",
     "shell.execute_reply": "2023-07-12T14:15:33.310252Z"
    },
    "papermill": {
     "duration": 0.056395,
     "end_time": "2023-07-12T14:15:33.313635",
     "exception": false,
     "start_time": "2023-07-12T14:15:33.257240",
     "status": "completed"
    },
    "tags": []
   },
   "outputs": [
    {
     "data": {
      "text/plain": [
       "array([[1489,  118],\n",
       "       [ 250,  143]], dtype=int64)"
      ]
     },
     "execution_count": 65,
     "metadata": {},
     "output_type": "execute_result"
    }
   ],
   "source": [
    "from sklearn.metrics import confusion_matrix\n",
    "cm =confusion_matrix(y_test_tensor,predictions)\n",
    "cm"
   ]
  },
  {
   "cell_type": "code",
   "execution_count": 66,
   "id": "cc61adfa",
   "metadata": {
    "execution": {
     "iopub.execute_input": "2023-07-12T14:15:33.395783Z",
     "iopub.status.busy": "2023-07-12T14:15:33.395294Z",
     "iopub.status.idle": "2023-07-12T14:15:33.683495Z",
     "shell.execute_reply": "2023-07-12T14:15:33.682317Z"
    },
    "papermill": {
     "duration": 0.331768,
     "end_time": "2023-07-12T14:15:33.686031",
     "exception": false,
     "start_time": "2023-07-12T14:15:33.354263",
     "status": "completed"
    },
    "tags": []
   },
   "outputs": [
    {
     "data": {
      "image/png": "[encoded data removed]",
      "text/plain": [
       "<Figure size 432x288 with 2 Axes>"
      ]
     },
     "metadata": {
      "needs_background": "light"
     },
     "output_type": "display_data"
    }
   ],
   "source": [
    "sns.heatmap(cm,annot=True)\n",
    "plt.show()"
   ]
  },
  {
   "cell_type": "code",
   "execution_count": 67,
   "id": "92c8f9bb",
   "metadata": {
    "execution": {
     "iopub.execute_input": "2023-07-12T14:15:33.770077Z",
     "iopub.status.busy": "2023-07-12T14:15:33.769636Z",
     "iopub.status.idle": "2023-07-12T14:15:33.780585Z",
     "shell.execute_reply": "2023-07-12T14:15:33.779389Z"
    },
    "papermill": {
     "duration": 0.056502,
     "end_time": "2023-07-12T14:15:33.783053",
     "exception": false,
     "start_time": "2023-07-12T14:15:33.726551",
     "status": "completed"
    },
    "tags": []
   },
   "outputs": [
    {
     "data": {
      "text/plain": [
       "0.816"
      ]
     },
     "execution_count": 67,
     "metadata": {},
     "output_type": "execute_result"
    }
   ],
   "source": [
    "from sklearn.metrics import accuracy_score\n",
    "accuracy_score(y_test_tensor, predictions)"
   ]
  },
  {
   "cell_type": "code",
   "execution_count": 68,
   "id": "66eebfc6",
   "metadata": {
    "execution": {
     "iopub.execute_input": "2023-07-12T14:15:33.864878Z",
     "iopub.status.busy": "2023-07-12T14:15:33.864441Z",
     "iopub.status.idle": "2023-07-12T14:15:33.882929Z",
     "shell.execute_reply": "2023-07-12T14:15:33.881529Z"
    },
    "papermill": {
     "duration": 0.062393,
     "end_time": "2023-07-12T14:15:33.885574",
     "exception": false,
     "start_time": "2023-07-12T14:15:33.823181",
     "status": "completed"
    },
    "tags": []
   },
   "outputs": [
    {
     "name": "stdout",
     "output_type": "stream",
     "text": [
      "              precision    recall  f1-score   support\n",
      "\n",
      "           0       0.86      0.93      0.89      1607\n",
      "           1       0.55      0.36      0.44       393\n",
      "\n",
      "    accuracy                           0.82      2000\n",
      "   macro avg       0.70      0.65      0.66      2000\n",
      "weighted avg       0.80      0.82      0.80      2000\n",
      "\n"
     ]
    }
   ],
   "source": [
    "from sklearn.metrics import classification_report\n",
    "report = classification_report(y_test_tensor, predictions)\n",
    "\n",
    "print(report)"
   ]
  },
  {
   "cell_type": "code",
   "execution_count": null,
   "id": "cebeac05",
   "metadata": {
    "papermill": {
     "duration": 0.040238,
     "end_time": "2023-07-12T14:15:34.047196",
     "exception": false,
     "start_time": "2023-07-12T14:15:34.006958",
     "status": "completed"
    },
    "tags": []
   },
   "outputs": [],
   "source": []
  }
 ],
 "metadata": {
  "kernelspec": {
   "display_name": "Python 3",
   "language": "python",
   "name": "python3"
  },
  "language_info": {
   "codemirror_mode": {
    "name": "ipython",
    "version": 3
   },
   "file_extension": ".py",
   "mimetype": "text/x-python",
   "name": "python",
   "nbconvert_exporter": "python",
   "pygments_lexer": "ipython3",
   "version": "3.10.7"
  },
  "papermill": {
   "default_parameters": {},
   "duration": 64.653036,
   "end_time": "2023-07-12T14:15:35.813448",
   "environment_variables": {},
   "exception": null,
   "input_path": "__notebook__.ipynb",
   "output_path": "__notebook__.ipynb",
   "parameters": {},
   "start_time": "2023-07-12T14:14:31.160412",
   "version": "2.4.0"
  }
 },
 "nbformat": 4,
 "nbformat_minor": 5
}
