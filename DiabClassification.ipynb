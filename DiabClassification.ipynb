{
 "cells": [
  {
   "cell_type": "code",
   "execution_count": null,
   "id": "623325ee",
   "metadata": {
    "scrolled": true
   },
   "outputs": [],
   "source": [
    "!pip install torch"
   ]
  },
  {
   "cell_type": "code",
   "execution_count": 10,
   "id": "dc904012",
   "metadata": {},
   "outputs": [],
   "source": [
    "import numpy as np\n",
    "import torch\n",
    "import torch.nn as nn\n",
    "import torch.optim as optim\n",
    "import matplotlib.pyplot as plt"
   ]
  },
  {
   "cell_type": "code",
   "execution_count": 14,
   "id": "981a3148",
   "metadata": {},
   "outputs": [],
   "source": [
    "# load the dataset, split into input (X) and output (y) variables\n",
    "dataset = np.loadtxt(\"pima-indians-diabetes.csv\", delimiter=\",\")\n",
    "X = dataset[:,0:8]\n",
    "y = dataset[:,8]\n",
    " \n",
    "X = torch.tensor(X, dtype=torch.float32)\n",
    "y = torch.tensor(y, dtype=torch.float32).reshape(-1, 1)"
   ]
  },
  {
   "cell_type": "code",
   "execution_count": 15,
   "id": "40d1ce38",
   "metadata": {},
   "outputs": [
    {
     "name": "stdout",
     "output_type": "stream",
     "text": [
      "Sequential(\n",
      "  (0): Linear(in_features=8, out_features=12, bias=True)\n",
      "  (1): ReLU()\n",
      "  (2): Linear(in_features=12, out_features=8, bias=True)\n",
      "  (3): ReLU()\n",
      "  (4): Linear(in_features=8, out_features=1, bias=True)\n",
      "  (5): Sigmoid()\n",
      ")\n"
     ]
    }
   ],
   "source": [
    "# define the model\n",
    "model = nn.Sequential(\n",
    "    nn.Linear(8, 12),\n",
    "    nn.ReLU(),\n",
    "    nn.Linear(12, 8),\n",
    "    nn.ReLU(),\n",
    "    nn.Linear(8, 1),\n",
    "    nn.Sigmoid()\n",
    ")\n",
    "print(model)"
   ]
  },
  {
   "cell_type": "code",
   "execution_count": 19,
   "id": "f06eb9e1",
   "metadata": {
    "scrolled": true
   },
   "outputs": [
    {
     "name": "stdout",
     "output_type": "stream",
     "text": [
      "Finished epoch 0, latest loss 0.4367099404335022\n",
      "Finished epoch 1, latest loss 0.42534133791923523\n",
      "Finished epoch 2, latest loss 0.4235064685344696\n",
      "Finished epoch 3, latest loss 0.4140658676624298\n",
      "Finished epoch 4, latest loss 0.4155679941177368\n",
      "Finished epoch 5, latest loss 0.40852445363998413\n",
      "Finished epoch 6, latest loss 0.4110393524169922\n",
      "Finished epoch 7, latest loss 0.41063952445983887\n",
      "Finished epoch 8, latest loss 0.40844613313674927\n",
      "Finished epoch 9, latest loss 0.41366589069366455\n",
      "Finished epoch 10, latest loss 0.4094202518463135\n",
      "Finished epoch 11, latest loss 0.41089117527008057\n",
      "Finished epoch 12, latest loss 0.41163721680641174\n",
      "Finished epoch 13, latest loss 0.410226434469223\n",
      "Finished epoch 14, latest loss 0.40719348192214966\n",
      "Finished epoch 15, latest loss 0.40844351053237915\n",
      "Finished epoch 16, latest loss 0.4032956063747406\n",
      "Finished epoch 17, latest loss 0.39353254437446594\n",
      "Finished epoch 18, latest loss 0.38845592737197876\n",
      "Finished epoch 19, latest loss 0.4006793200969696\n",
      "Finished epoch 20, latest loss 0.40162739157676697\n",
      "Finished epoch 21, latest loss 0.39991262555122375\n",
      "Finished epoch 22, latest loss 0.40077051520347595\n",
      "Finished epoch 23, latest loss 0.3973173499107361\n",
      "Finished epoch 24, latest loss 0.39663103222846985\n",
      "Finished epoch 25, latest loss 0.39374297857284546\n",
      "Finished epoch 26, latest loss 0.3986056447029114\n",
      "Finished epoch 27, latest loss 0.3907242715358734\n",
      "Finished epoch 28, latest loss 0.3853684067726135\n",
      "Finished epoch 29, latest loss 0.38722559809684753\n",
      "Finished epoch 30, latest loss 0.38887888193130493\n",
      "Finished epoch 31, latest loss 0.3913275897502899\n",
      "Finished epoch 32, latest loss 0.3848411440849304\n",
      "Finished epoch 33, latest loss 0.3875938653945923\n",
      "Finished epoch 34, latest loss 0.3870870769023895\n",
      "Finished epoch 35, latest loss 0.3829725384712219\n",
      "Finished epoch 36, latest loss 0.38790321350097656\n",
      "Finished epoch 37, latest loss 0.3855462670326233\n",
      "Finished epoch 38, latest loss 0.38442692160606384\n",
      "Finished epoch 39, latest loss 0.38312914967536926\n",
      "Finished epoch 40, latest loss 0.38243675231933594\n",
      "Finished epoch 41, latest loss 0.37991654872894287\n",
      "Finished epoch 42, latest loss 0.3827352523803711\n",
      "Finished epoch 43, latest loss 0.37670981884002686\n",
      "Finished epoch 44, latest loss 0.37722402811050415\n",
      "Finished epoch 45, latest loss 0.3699108958244324\n",
      "Finished epoch 46, latest loss 0.37176084518432617\n",
      "Finished epoch 47, latest loss 0.3708512783050537\n",
      "Finished epoch 48, latest loss 0.36841094493865967\n",
      "Finished epoch 49, latest loss 0.3646748960018158\n",
      "Finished epoch 50, latest loss 0.3665710687637329\n",
      "Finished epoch 51, latest loss 0.36483389139175415\n",
      "Finished epoch 52, latest loss 0.35394716262817383\n",
      "Finished epoch 53, latest loss 0.354739785194397\n",
      "Finished epoch 54, latest loss 0.35541242361068726\n",
      "Finished epoch 55, latest loss 0.3565772473812103\n",
      "Finished epoch 56, latest loss 0.3533661663532257\n",
      "Finished epoch 57, latest loss 0.35200798511505127\n",
      "Finished epoch 58, latest loss 0.3494240939617157\n",
      "Finished epoch 59, latest loss 0.3491817116737366\n",
      "Finished epoch 60, latest loss 0.352980375289917\n",
      "Finished epoch 61, latest loss 0.35456031560897827\n",
      "Finished epoch 62, latest loss 0.34986403584480286\n",
      "Finished epoch 63, latest loss 0.35084253549575806\n",
      "Finished epoch 64, latest loss 0.3490694463253021\n",
      "Finished epoch 65, latest loss 0.3507988154888153\n",
      "Finished epoch 66, latest loss 0.3458727300167084\n",
      "Finished epoch 67, latest loss 0.34405577182769775\n",
      "Finished epoch 68, latest loss 0.3424130976200104\n",
      "Finished epoch 69, latest loss 0.3384859263896942\n",
      "Finished epoch 70, latest loss 0.3424336910247803\n",
      "Finished epoch 71, latest loss 0.33829593658447266\n",
      "Finished epoch 72, latest loss 0.3423464000225067\n",
      "Finished epoch 73, latest loss 0.3258943259716034\n",
      "Finished epoch 74, latest loss 0.32149645686149597\n",
      "Finished epoch 75, latest loss 0.32698488235473633\n",
      "Finished epoch 76, latest loss 0.32858696579933167\n",
      "Finished epoch 77, latest loss 0.325997531414032\n",
      "Finished epoch 78, latest loss 0.32852211594581604\n",
      "Finished epoch 79, latest loss 0.3282116949558258\n",
      "Finished epoch 80, latest loss 0.32750245928764343\n",
      "Finished epoch 81, latest loss 0.32158052921295166\n",
      "Finished epoch 82, latest loss 0.3275756239891052\n",
      "Finished epoch 83, latest loss 0.3242601156234741\n",
      "Finished epoch 84, latest loss 0.3222883343696594\n",
      "Finished epoch 85, latest loss 0.3240906298160553\n",
      "Finished epoch 86, latest loss 0.321869820356369\n",
      "Finished epoch 87, latest loss 0.3218514919281006\n",
      "Finished epoch 88, latest loss 0.31979870796203613\n",
      "Finished epoch 89, latest loss 0.31757861375808716\n",
      "Finished epoch 90, latest loss 0.3173971176147461\n",
      "Finished epoch 91, latest loss 0.3213449716567993\n",
      "Finished epoch 92, latest loss 0.3150053322315216\n",
      "Finished epoch 93, latest loss 0.3180805742740631\n",
      "Finished epoch 94, latest loss 0.3110430836677551\n",
      "Finished epoch 95, latest loss 0.3217709958553314\n",
      "Finished epoch 96, latest loss 0.3159146308898926\n",
      "Finished epoch 97, latest loss 0.3198338449001312\n",
      "Finished epoch 98, latest loss 0.3084409534931183\n",
      "Finished epoch 99, latest loss 0.3136359453201294\n"
     ]
    }
   ],
   "source": [
    "# train the model\n",
    "loss_fn   = nn.BCELoss()  # binary cross entropy\n",
    "optimizer = optim.Adam(model.parameters(), lr=0.001)\n",
    " \n",
    "n_epochs = 100\n",
    "batch_size = 10\n",
    "loss_ADAM = []\n",
    "for epoch in range(n_epochs):\n",
    "    for i in range(0, len(X), batch_size):\n",
    "        Xbatch = X[i:i+batch_size]\n",
    "        y_pred = model(Xbatch)\n",
    "        ybatch = y[i:i+batch_size]\n",
    "        loss = loss_fn(y_pred, ybatch)\n",
    "        # store loss into list\n",
    "        loss_ADAM.append(loss.item())\n",
    "        optimizer.zero_grad()\n",
    "        loss.backward()\n",
    "        optimizer.step()\n",
    "    print(f'Finished epoch {epoch}, latest loss {loss}') "
   ]
  },
  {
   "cell_type": "code",
   "execution_count": 21,
   "id": "04629c37",
   "metadata": {},
   "outputs": [
    {
     "name": "stdout",
     "output_type": "stream",
     "text": [
      "Accuracy 0.8020833134651184\n"
     ]
    }
   ],
   "source": [
    "# Plot the loss\n",
    "#plt.plot(loss_ADAM,label = \"Adam Optimizer\")\n",
    "#plt.xlabel('epoch')\n",
    "#plt.ylabel('Cost/ total loss')\n",
    "#plt.legend()\n",
    "#plt.show()\n",
    "\n",
    "# compute accuracy (no_grad is optional)\n",
    "with torch.no_grad():\n",
    "    y_pred = model(X)\n",
    "accuracy = (y_pred.round() == y).float().mean()\n",
    "print(f\"Accuracy {accuracy}\")"
   ]
  },
  {
   "cell_type": "code",
   "execution_count": 22,
   "id": "1d3f6920",
   "metadata": {
    "scrolled": true
   },
   "outputs": [
    {
     "name": "stdout",
     "output_type": "stream",
     "text": [
      "[6.0, 148.0, 72.0, 35.0, 0.0, 33.599998474121094, 0.6269999742507935, 50.0] => 1 (expected 1)\n",
      "[1.0, 85.0, 66.0, 29.0, 0.0, 26.600000381469727, 0.35100001096725464, 31.0] => 0 (expected 0)\n",
      "[8.0, 183.0, 64.0, 0.0, 0.0, 23.299999237060547, 0.671999990940094, 32.0] => 1 (expected 1)\n",
      "[1.0, 89.0, 66.0, 23.0, 94.0, 28.100000381469727, 0.16699999570846558, 21.0] => 0 (expected 0)\n",
      "[0.0, 137.0, 40.0, 35.0, 168.0, 43.099998474121094, 2.2880001068115234, 33.0] => 1 (expected 1)\n"
     ]
    }
   ],
   "source": [
    "predictions = (model(X) > 0.5).int()\n",
    "for i in range(5):\n",
    "    print('%s => %d (expected %d)' % (X[i].tolist(), predictions[i], y[i]))"
   ]
  },
  {
   "cell_type": "code",
   "execution_count": null,
   "id": "2d474f17",
   "metadata": {},
   "outputs": [],
   "source": []
  }
 ],
 "metadata": {
  "kernelspec": {
   "display_name": "Python 3 (ipykernel)",
   "language": "python",
   "name": "python3"
  },
  "language_info": {
   "codemirror_mode": {
    "name": "ipython",
    "version": 3
   },
   "file_extension": ".py",
   "mimetype": "text/x-python",
   "name": "python",
   "nbconvert_exporter": "python",
   "pygments_lexer": "ipython3",
   "version": "3.10.7"
  }
 },
 "nbformat": 4,
 "nbformat_minor": 5
}
